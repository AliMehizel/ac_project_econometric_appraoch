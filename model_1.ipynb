{
 "cells": [
  {
   "cell_type": "code",
   "execution_count": 4,
   "metadata": {},
   "outputs": [],
   "source": [
    "import numpy as np \n",
    "import pandas as pd \n",
    "import statsmodels.api as sm \n",
    "from statsmodels.stats.outliers_influence import variance_inflation_factor\n",
    "import statsmodels \n",
    "import scipy\n",
    "import matplotlib.pyplot as plt \n",
    "import seaborn as sns \n",
    "import utils"
   ]
  },
  {
   "cell_type": "code",
   "execution_count": 5,
   "metadata": {},
   "outputs": [
    {
     "data": {
      "text/html": [
       "<div>\n",
       "<style scoped>\n",
       "    .dataframe tbody tr th:only-of-type {\n",
       "        vertical-align: middle;\n",
       "    }\n",
       "\n",
       "    .dataframe tbody tr th {\n",
       "        vertical-align: top;\n",
       "    }\n",
       "\n",
       "    .dataframe thead th {\n",
       "        text-align: right;\n",
       "    }\n",
       "</style>\n",
       "<table border=\"1\" class=\"dataframe\">\n",
       "  <thead>\n",
       "    <tr style=\"text-align: right;\">\n",
       "      <th></th>\n",
       "      <th>Unnamed: 0.2</th>\n",
       "      <th>Unnamed: 0.1</th>\n",
       "      <th>Unnamed: 0</th>\n",
       "      <th>bmi</th>\n",
       "      <th>charges</th>\n",
       "      <th>smoker_no</th>\n",
       "      <th>smoker_yes</th>\n",
       "      <th>categorie_age_Adulte</th>\n",
       "      <th>categorie_age_Jeune</th>\n",
       "      <th>categorie_age_Sénior</th>\n",
       "      <th>bmi_log</th>\n",
       "      <th>charges_log</th>\n",
       "      <th>charges_log2</th>\n",
       "      <th>bmi_log2</th>\n",
       "      <th>smoking_status</th>\n",
       "    </tr>\n",
       "  </thead>\n",
       "  <tbody>\n",
       "    <tr>\n",
       "      <th>0</th>\n",
       "      <td>0</td>\n",
       "      <td>0</td>\n",
       "      <td>0</td>\n",
       "      <td>27.90</td>\n",
       "      <td>16884.9240</td>\n",
       "      <td>0</td>\n",
       "      <td>1</td>\n",
       "      <td>0</td>\n",
       "      <td>1</td>\n",
       "      <td>0</td>\n",
       "      <td>3.328627</td>\n",
       "      <td>9.734176</td>\n",
       "      <td>2.275643</td>\n",
       "      <td>1.202560</td>\n",
       "      <td>1</td>\n",
       "    </tr>\n",
       "    <tr>\n",
       "      <th>1</th>\n",
       "      <td>1</td>\n",
       "      <td>1</td>\n",
       "      <td>1</td>\n",
       "      <td>33.77</td>\n",
       "      <td>1725.5523</td>\n",
       "      <td>1</td>\n",
       "      <td>0</td>\n",
       "      <td>0</td>\n",
       "      <td>1</td>\n",
       "      <td>0</td>\n",
       "      <td>3.519573</td>\n",
       "      <td>7.453302</td>\n",
       "      <td>2.008657</td>\n",
       "      <td>1.258340</td>\n",
       "      <td>0</td>\n",
       "    </tr>\n",
       "    <tr>\n",
       "      <th>2</th>\n",
       "      <td>2</td>\n",
       "      <td>2</td>\n",
       "      <td>2</td>\n",
       "      <td>33.00</td>\n",
       "      <td>4449.4620</td>\n",
       "      <td>1</td>\n",
       "      <td>0</td>\n",
       "      <td>0</td>\n",
       "      <td>1</td>\n",
       "      <td>0</td>\n",
       "      <td>3.496508</td>\n",
       "      <td>8.400538</td>\n",
       "      <td>2.128296</td>\n",
       "      <td>1.251765</td>\n",
       "      <td>0</td>\n",
       "    </tr>\n",
       "    <tr>\n",
       "      <th>3</th>\n",
       "      <td>3</td>\n",
       "      <td>3</td>\n",
       "      <td>3</td>\n",
       "      <td>28.88</td>\n",
       "      <td>3866.8552</td>\n",
       "      <td>1</td>\n",
       "      <td>0</td>\n",
       "      <td>0</td>\n",
       "      <td>1</td>\n",
       "      <td>0</td>\n",
       "      <td>3.363149</td>\n",
       "      <td>8.260197</td>\n",
       "      <td>2.111448</td>\n",
       "      <td>1.212878</td>\n",
       "      <td>0</td>\n",
       "    </tr>\n",
       "    <tr>\n",
       "      <th>4</th>\n",
       "      <td>4</td>\n",
       "      <td>4</td>\n",
       "      <td>4</td>\n",
       "      <td>25.74</td>\n",
       "      <td>3756.6216</td>\n",
       "      <td>1</td>\n",
       "      <td>0</td>\n",
       "      <td>0</td>\n",
       "      <td>1</td>\n",
       "      <td>0</td>\n",
       "      <td>3.248046</td>\n",
       "      <td>8.231275</td>\n",
       "      <td>2.107941</td>\n",
       "      <td>1.178054</td>\n",
       "      <td>0</td>\n",
       "    </tr>\n",
       "  </tbody>\n",
       "</table>\n",
       "</div>"
      ],
      "text/plain": [
       "   Unnamed: 0.2  Unnamed: 0.1  Unnamed: 0    bmi     charges  smoker_no  \\\n",
       "0             0             0           0  27.90  16884.9240          0   \n",
       "1             1             1           1  33.77   1725.5523          1   \n",
       "2             2             2           2  33.00   4449.4620          1   \n",
       "3             3             3           3  28.88   3866.8552          1   \n",
       "4             4             4           4  25.74   3756.6216          1   \n",
       "\n",
       "   smoker_yes  categorie_age_Adulte  categorie_age_Jeune  \\\n",
       "0           1                     0                    1   \n",
       "1           0                     0                    1   \n",
       "2           0                     0                    1   \n",
       "3           0                     0                    1   \n",
       "4           0                     0                    1   \n",
       "\n",
       "   categorie_age_Sénior   bmi_log  charges_log  charges_log2  bmi_log2  \\\n",
       "0                     0  3.328627     9.734176      2.275643  1.202560   \n",
       "1                     0  3.519573     7.453302      2.008657  1.258340   \n",
       "2                     0  3.496508     8.400538      2.128296  1.251765   \n",
       "3                     0  3.363149     8.260197      2.111448  1.212878   \n",
       "4                     0  3.248046     8.231275      2.107941  1.178054   \n",
       "\n",
       "   smoking_status  \n",
       "0               1  \n",
       "1               0  \n",
       "2               0  \n",
       "3               0  \n",
       "4               0  "
      ]
     },
     "execution_count": 5,
     "metadata": {},
     "output_type": "execute_result"
    }
   ],
   "source": [
    "data = pd.read_csv('data/final.csv')\n",
    "data.head()"
   ]
  },
  {
   "cell_type": "code",
   "execution_count": 6,
   "metadata": {},
   "outputs": [
    {
     "data": {
      "text/html": [
       "<table class=\"simpletable\">\n",
       "<caption>OLS Regression Results</caption>\n",
       "<tr>\n",
       "  <th>Dep. Variable:</th>         <td>charges</td>     <th>  R-squared (uncentered):</th>      <td>   0.907</td> \n",
       "</tr>\n",
       "<tr>\n",
       "  <th>Model:</th>                   <td>OLS</td>       <th>  Adj. R-squared (uncentered):</th> <td>   0.907</td> \n",
       "</tr>\n",
       "<tr>\n",
       "  <th>Method:</th>             <td>Least Squares</td>  <th>  F-statistic:       </th>          <td>   3046.</td> \n",
       "</tr>\n",
       "<tr>\n",
       "  <th>Date:</th>             <td>Tue, 26 Nov 2024</td> <th>  Prob (F-statistic):</th>           <td>  0.00</td>  \n",
       "</tr>\n",
       "<tr>\n",
       "  <th>Time:</th>                 <td>10:52:22</td>     <th>  Log-Likelihood:    </th>          <td> -12574.</td> \n",
       "</tr>\n",
       "<tr>\n",
       "  <th>No. Observations:</th>      <td>  1256</td>      <th>  AIC:               </th>          <td>2.516e+04</td>\n",
       "</tr>\n",
       "<tr>\n",
       "  <th>Df Residuals:</th>          <td>  1252</td>      <th>  BIC:               </th>          <td>2.518e+04</td>\n",
       "</tr>\n",
       "<tr>\n",
       "  <th>Df Model:</th>              <td>     4</td>      <th>                     </th>              <td> </td>    \n",
       "</tr>\n",
       "<tr>\n",
       "  <th>Covariance Type:</th>      <td>nonrobust</td>    <th>                     </th>              <td> </td>    \n",
       "</tr>\n",
       "</table>\n",
       "<table class=\"simpletable\">\n",
       "<tr>\n",
       "            <td></td>              <th>coef</th>     <th>std err</th>      <th>t</th>      <th>P>|t|</th>  <th>[0.025</th>    <th>0.975]</th>  \n",
       "</tr>\n",
       "<tr>\n",
       "  <th>bmi</th>                  <td>  133.6677</td> <td>    8.093</td> <td>   16.516</td> <td> 0.000</td> <td>  117.790</td> <td>  149.545</td>\n",
       "</tr>\n",
       "<tr>\n",
       "  <th>smoker_yes</th>           <td> 2.468e+04</td> <td>  367.565</td> <td>   67.142</td> <td> 0.000</td> <td>  2.4e+04</td> <td> 2.54e+04</td>\n",
       "</tr>\n",
       "<tr>\n",
       "  <th>categorie_age_Sénior</th> <td> 8219.9086</td> <td>  368.155</td> <td>   22.327</td> <td> 0.000</td> <td> 7497.639</td> <td> 8942.178</td>\n",
       "</tr>\n",
       "<tr>\n",
       "  <th>categorie_age_Adulte</th> <td> 3331.9966</td> <td>  361.622</td> <td>    9.214</td> <td> 0.000</td> <td> 2622.545</td> <td> 4041.448</td>\n",
       "</tr>\n",
       "</table>\n",
       "<table class=\"simpletable\">\n",
       "<tr>\n",
       "  <th>Omnibus:</th>       <td>249.729</td> <th>  Durbin-Watson:     </th> <td>   1.982</td> \n",
       "</tr>\n",
       "<tr>\n",
       "  <th>Prob(Omnibus):</th> <td> 0.000</td>  <th>  Jarque-Bera (JB):  </th> <td>1192.949</td> \n",
       "</tr>\n",
       "<tr>\n",
       "  <th>Skew:</th>          <td> 0.847</td>  <th>  Prob(JB):          </th> <td>9.00e-260</td>\n",
       "</tr>\n",
       "<tr>\n",
       "  <th>Kurtosis:</th>      <td> 7.464</td>  <th>  Cond. No.          </th> <td>    89.3</td> \n",
       "</tr>\n",
       "</table><br/><br/>Notes:<br/>[1] R² is computed without centering (uncentered) since the model does not contain a constant.<br/>[2] Standard Errors assume that the covariance matrix of the errors is correctly specified."
      ],
      "text/latex": [
       "\\begin{center}\n",
       "\\begin{tabular}{lclc}\n",
       "\\toprule\n",
       "\\textbf{Dep. Variable:}         &     charges      & \\textbf{  R-squared (uncentered):}      &     0.907   \\\\\n",
       "\\textbf{Model:}                 &       OLS        & \\textbf{  Adj. R-squared (uncentered):} &     0.907   \\\\\n",
       "\\textbf{Method:}                &  Least Squares   & \\textbf{  F-statistic:       }          &     3046.   \\\\\n",
       "\\textbf{Date:}                  & Tue, 26 Nov 2024 & \\textbf{  Prob (F-statistic):}          &     0.00    \\\\\n",
       "\\textbf{Time:}                  &     10:52:22     & \\textbf{  Log-Likelihood:    }          &   -12574.   \\\\\n",
       "\\textbf{No. Observations:}      &        1256      & \\textbf{  AIC:               }          & 2.516e+04   \\\\\n",
       "\\textbf{Df Residuals:}          &        1252      & \\textbf{  BIC:               }          & 2.518e+04   \\\\\n",
       "\\textbf{Df Model:}              &           4      & \\textbf{                     }          &             \\\\\n",
       "\\textbf{Covariance Type:}       &    nonrobust     & \\textbf{                     }          &             \\\\\n",
       "\\bottomrule\n",
       "\\end{tabular}\n",
       "\\begin{tabular}{lcccccc}\n",
       "                                & \\textbf{coef} & \\textbf{std err} & \\textbf{t} & \\textbf{P$> |$t$|$} & \\textbf{[0.025} & \\textbf{0.975]}  \\\\\n",
       "\\midrule\n",
       "\\textbf{bmi}                    &     133.6677  &        8.093     &    16.516  &         0.000        &      117.790    &      149.545     \\\\\n",
       "\\textbf{smoker\\_yes}            &    2.468e+04  &      367.565     &    67.142  &         0.000        &      2.4e+04    &     2.54e+04     \\\\\n",
       "\\textbf{categorie\\_age\\_Sénior} &    8219.9086  &      368.155     &    22.327  &         0.000        &     7497.639    &     8942.178     \\\\\n",
       "\\textbf{categorie\\_age\\_Adulte} &    3331.9966  &      361.622     &     9.214  &         0.000        &     2622.545    &     4041.448     \\\\\n",
       "\\bottomrule\n",
       "\\end{tabular}\n",
       "\\begin{tabular}{lclc}\n",
       "\\textbf{Omnibus:}       & 249.729 & \\textbf{  Durbin-Watson:     } &     1.982  \\\\\n",
       "\\textbf{Prob(Omnibus):} &   0.000 & \\textbf{  Jarque-Bera (JB):  } &  1192.949  \\\\\n",
       "\\textbf{Skew:}          &   0.847 & \\textbf{  Prob(JB):          } & 9.00e-260  \\\\\n",
       "\\textbf{Kurtosis:}      &   7.464 & \\textbf{  Cond. No.          } &      89.3  \\\\\n",
       "\\bottomrule\n",
       "\\end{tabular}\n",
       "%\\caption{OLS Regression Results}\n",
       "\\end{center}\n",
       "\n",
       "Notes: \\newline\n",
       " [1] R² is computed without centering (uncentered) since the model does not contain a constant. \\newline\n",
       " [2] Standard Errors assume that the covariance matrix of the errors is correctly specified."
      ],
      "text/plain": [
       "<class 'statsmodels.iolib.summary.Summary'>\n",
       "\"\"\"\n",
       "                                 OLS Regression Results                                \n",
       "=======================================================================================\n",
       "Dep. Variable:                charges   R-squared (uncentered):                   0.907\n",
       "Model:                            OLS   Adj. R-squared (uncentered):              0.907\n",
       "Method:                 Least Squares   F-statistic:                              3046.\n",
       "Date:                Tue, 26 Nov 2024   Prob (F-statistic):                        0.00\n",
       "Time:                        10:52:22   Log-Likelihood:                         -12574.\n",
       "No. Observations:                1256   AIC:                                  2.516e+04\n",
       "Df Residuals:                    1252   BIC:                                  2.518e+04\n",
       "Df Model:                           4                                                  \n",
       "Covariance Type:            nonrobust                                                  \n",
       "========================================================================================\n",
       "                           coef    std err          t      P>|t|      [0.025      0.975]\n",
       "----------------------------------------------------------------------------------------\n",
       "bmi                    133.6677      8.093     16.516      0.000     117.790     149.545\n",
       "smoker_yes            2.468e+04    367.565     67.142      0.000     2.4e+04    2.54e+04\n",
       "categorie_age_Sénior  8219.9086    368.155     22.327      0.000    7497.639    8942.178\n",
       "categorie_age_Adulte  3331.9966    361.622      9.214      0.000    2622.545    4041.448\n",
       "==============================================================================\n",
       "Omnibus:                      249.729   Durbin-Watson:                   1.982\n",
       "Prob(Omnibus):                  0.000   Jarque-Bera (JB):             1192.949\n",
       "Skew:                           0.847   Prob(JB):                    9.00e-260\n",
       "Kurtosis:                       7.464   Cond. No.                         89.3\n",
       "==============================================================================\n",
       "\n",
       "Notes:\n",
       "[1] R² is computed without centering (uncentered) since the model does not contain a constant.\n",
       "[2] Standard Errors assume that the covariance matrix of the errors is correctly specified.\n",
       "\"\"\""
      ]
     },
     "execution_count": 6,
     "metadata": {},
     "output_type": "execute_result"
    }
   ],
   "source": [
    "#modeling charges = f(bmi, smoker_yes ....)\n",
    "model = sm.formula.ols(formula='charges ~ bmi+smoker_yes+categorie_age_Sénior+categorie_age_Adulte -1',\n",
    "                       data=data)\n",
    "fit = model.fit()\n",
    "fit.summary()\n"
   ]
  },
  {
   "cell_type": "code",
   "execution_count": 7,
   "metadata": {},
   "outputs": [],
   "source": [
    "resid= fit.resid\n"
   ]
  },
  {
   "cell_type": "code",
   "execution_count": 8,
   "metadata": {},
   "outputs": [
    {
     "data": {
      "text/plain": [
       "Text(0.5, 1.0, 'Reisuals scatter points')"
      ]
     },
     "execution_count": 8,
     "metadata": {},
     "output_type": "execute_result"
    },
    {
     "data": {
      "image/png": "[encoded data removed]",
      "text/plain": [
       "<Figure size 640x480 with 1 Axes>"
      ]
     },
     "metadata": {},
     "output_type": "display_data"
    }
   ],
   "source": [
    "#autocorrelation\n",
    "sns.scatterplot( resid)\n",
    "plt.title('Reisuals scatter points')"
   ]
  },
  {
   "cell_type": "code",
   "execution_count": 9,
   "metadata": {},
   "outputs": [
    {
     "name": "stdout",
     "output_type": "stream",
     "text": [
      "Durbin-Watson Statistic: 1.981997885628786\n",
      "There’s no significant autocorrelation in your residuals.\n"
     ]
    }
   ],
   "source": [
    "utils._durbin(resid)"
   ]
  },
  {
   "cell_type": "code",
   "execution_count": 10,
   "metadata": {},
   "outputs": [
    {
     "name": "stdout",
     "output_type": "stream",
     "text": [
      "Ljung-Box Test Statistic: 16.05808171908213, p-value: 0.18859027497672964\n",
      "No significant autocorrelation detected in the residuals (do not reject null hypothesis).\n"
     ]
    }
   ],
   "source": [
    "utils._ljbox(resid ,12)"
   ]
  },
  {
   "cell_type": "code",
   "execution_count": 11,
   "metadata": {},
   "outputs": [
    {
     "name": "stdout",
     "output_type": "stream",
     "text": [
      "White Test Statistic (LM): 366.9812708381721, p-value: 9.880814104196973e-73\n",
      "White Test Statistic (F): 51.392807283631065, p-value: 1.7729230932703236e-86\n"
     ]
    },
    {
     "data": {
      "text/plain": [
       "'Decision: Reject the null hypothesis. Evidence of heteroskedasticity.'"
      ]
     },
     "execution_count": 11,
     "metadata": {},
     "output_type": "execute_result"
    }
   ],
   "source": [
    "#heteroscedaticity\n",
    "exog = fit.model.exog\n",
    "utils._white(resid, exog)"
   ]
  },
  {
   "cell_type": "code",
   "execution_count": 12,
   "metadata": {},
   "outputs": [
    {
     "name": "stdout",
     "output_type": "stream",
     "text": [
      "Breusch-Pagan Test Statistic: 358.9962731288835, p-value: 2.0018083701035776e-76\n",
      "Decision: Reject the null hypothesis. There is evidence of heteroskedasticity.\n"
     ]
    }
   ],
   "source": [
    "utils._breuschpg(resid, exog)"
   ]
  },
  {
   "cell_type": "code",
   "execution_count": 13,
   "metadata": {},
   "outputs": [
    {
     "data": {
      "text/plain": [
       "'No significant multicollinearity detected. Condition number: 2.61. (Threshold: 30)'"
      ]
     },
     "execution_count": 13,
     "metadata": {},
     "output_type": "execute_result"
    }
   ],
   "source": [
    "#multicolineairité\n",
    "utils.detect_multicollinearity(pd.DataFrame(exog))"
   ]
  },
  {
   "cell_type": "code",
   "execution_count": 14,
   "metadata": {},
   "outputs": [
    {
     "name": "stdout",
     "output_type": "stream",
     "text": [
      "Kolmogorov-Smirnov Statistic: 0.15902746345949814, p-value: 3.255484879938957e-28\n",
      "Residuals do not follow a normal distribution (reject null hypothesis).\n"
     ]
    }
   ],
   "source": [
    "#normalité \n",
    "utils._kolmogorov_sm(resid)"
   ]
  },
  {
   "cell_type": "code",
   "execution_count": 15,
   "metadata": {},
   "outputs": [
    {
     "name": "stdout",
     "output_type": "stream",
     "text": [
      "Jarque-Bera Statistic: 1192.949413276087, p-value: 9.00173683521649e-260\n",
      "Residuals are not normally distributed (reject null hypothesis).\n"
     ]
    }
   ],
   "source": [
    "utils._jarqueb(resid)"
   ]
  },
  {
   "cell_type": "code",
   "execution_count": 16,
   "metadata": {},
   "outputs": [
    {
     "data": {
      "text/plain": [
       "<Axes: ylabel='Count'>"
      ]
     },
     "execution_count": 16,
     "metadata": {},
     "output_type": "execute_result"
    },
    {
     "data": {
      "image/png": "[encoded data removed]",
      "text/plain": [
       "<Figure size 640x480 with 1 Axes>"
      ]
     },
     "metadata": {},
     "output_type": "display_data"
    }
   ],
   "source": [
    "sns.histplot(resid)"
   ]
  },
  {
   "cell_type": "code",
   "execution_count": 18,
   "metadata": {},
   "outputs": [
    {
     "name": "stdout",
     "output_type": "stream",
     "text": [
      "White Test Statistic (LM): 453.7986613181655, p-value: 2.876555430707931e-99\n",
      "White Test Statistic (F): 354.40586746339307, p-value: 1.0387953000412236e-122\n"
     ]
    },
    {
     "data": {
      "text/plain": [
       "'Decision: Reject the null hypothesis. Evidence of heteroskedasticity.'"
      ]
     },
     "execution_count": 18,
     "metadata": {},
     "output_type": "execute_result"
    }
   ],
   "source": [
    "utils._white(fit.resid, data['charges'].values)"
   ]
  },
  {
   "cell_type": "code",
   "execution_count": 19,
   "metadata": {},
   "outputs": [],
   "source": [
    "#X = data[['bmi','smoker_yes','categorie_age_Jeune','categorie_age_Adulte']]\n",
    "#y = data['charges']\n",
    "#m = statsmodels.gmm.GMM(y,X)"
   ]
  }
 ],
 "metadata": {
  "kernelspec": {
   "display_name": "Python 3",
   "language": "python",
   "name": "python3"
  },
  "language_info": {
   "codemirror_mode": {
    "name": "ipython",
    "version": 3
   },
   "file_extension": ".py",
   "mimetype": "text/x-python",
   "name": "python",
   "nbconvert_exporter": "python",
   "pygments_lexer": "ipython3",
   "version": "3.12.5"
  }
 },
 "nbformat": 4,
 "nbformat_minor": 2
}
